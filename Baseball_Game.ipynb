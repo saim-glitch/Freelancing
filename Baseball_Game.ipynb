{
  "nbformat": 4,
  "nbformat_minor": 0,
  "metadata": {
    "colab": {
      "provenance": [],
      "authorship_tag": "ABX9TyOiXtr0fUUxTD3+w8lqYHOb",
      "include_colab_link": true
    },
    "kernelspec": {
      "name": "python3",
      "display_name": "Python 3"
    },
    "language_info": {
      "name": "python"
    }
  },
  "cells": [
    {
      "cell_type": "markdown",
      "metadata": {
        "id": "view-in-github",
        "colab_type": "text"
      },
      "source": [
        "<a href=\"https://colab.research.google.com/github/saim-glitch/Freelancing/blob/main/Baseball_Game.ipynb\" target=\"_parent\"><img src=\"https://colab.research.google.com/assets/colab-badge.svg\" alt=\"Open In Colab\"/></a>"
      ]
    },
    {
      "cell_type": "code",
      "execution_count": 7,
      "metadata": {
        "id": "XprmBqcBV_Lm"
      },
      "outputs": [],
      "source": [
        "def calPoints(operations):\n",
        "        stck=[]\n",
        "        for op in operations:\n",
        "            if op == \"+\":\n",
        "                stck.append(stck[-1] + stck[-2])\n",
        "            elif op == \"D\":\n",
        "                stck.append(stck[-1] * 2)\n",
        "            elif op ==\"C\":\n",
        "                stck.pop()\n",
        "            else:\n",
        "                stck.append(int(op))\n",
        "        return sum(stck)"
      ]
    },
    {
      "cell_type": "code",
      "source": [
        "ops = [\"5\",\"2\",\"C\",\"D\",\"+\"]\n",
        "solution=calPoints(ops)\n",
        "print(solution)"
      ],
      "metadata": {
        "colab": {
          "base_uri": "https://localhost:8080/"
        },
        "id": "4uDmA-TjWPLL",
        "outputId": "32202a19-ebd1-4b04-b93d-93f417b05437"
      },
      "execution_count": 8,
      "outputs": [
        {
          "output_type": "stream",
          "name": "stdout",
          "text": [
            "30\n"
          ]
        }
      ]
    }
  ]
}